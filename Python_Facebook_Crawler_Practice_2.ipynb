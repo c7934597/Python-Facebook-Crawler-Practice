{
 "cells": [
  {
   "cell_type": "code",
   "execution_count": 2,
   "metadata": {},
   "outputs": [
    {
     "name": "stdout",
     "output_type": "stream",
     "text": [
      "{'one': 1, 'two': 2, 'three': 3}\n"
     ]
    }
   ],
   "source": [
    "#dict在輸出時並不保證key的順序。\n",
    "\n",
    "d = {'one':1, 'two':2, 'three':3}\n",
    "print(d)"
   ]
  },
  {
   "cell_type": "code",
   "execution_count": 3,
   "metadata": {},
   "outputs": [
    {
     "name": "stdout",
     "output_type": "stream",
     "text": [
      "3\n"
     ]
    }
   ],
   "source": [
    "#我們一樣能用 len(dict) 來找出 dict 的大小\n",
    "\n",
    "profile = {'name':'Lynn', 'borth': 1205, 'id': 235}\n",
    "print(len(profile))"
   ]
  },
  {
   "cell_type": "code",
   "execution_count": 4,
   "metadata": {},
   "outputs": [
    {
     "name": "stdout",
     "output_type": "stream",
     "text": [
      "2\n"
     ]
    }
   ],
   "source": [
    "'''\n",
    "如果 dict 中有 list 呢? 長度會變成多少?\n",
    "事實上是一樣的，我們只看key的數量。\n",
    "'''\n",
    "\n",
    "customer_profile = {1: ['Lynn', 1205, 'college'], 'id': 235}\n",
    "print(len(customer_profile))"
   ]
  },
  {
   "cell_type": "code",
   "execution_count": 5,
   "metadata": {},
   "outputs": [
    {
     "name": "stdout",
     "output_type": "stream",
     "text": [
      "['Lynn', 1205, 'college']\n",
      "235\n"
     ]
    },
    {
     "ename": "KeyError",
     "evalue": "'hey'",
     "output_type": "error",
     "traceback": [
      "\u001b[1;31m---------------------------------------------------------------------------\u001b[0m",
      "\u001b[1;31mKeyError\u001b[0m                                  Traceback (most recent call last)",
      "\u001b[1;32m<ipython-input-5-7ef77238a2b1>\u001b[0m in \u001b[0;36m<module>\u001b[1;34m()\u001b[0m\n\u001b[0;32m      7\u001b[0m \u001b[0mprint\u001b[0m\u001b[1;33m(\u001b[0m\u001b[0mcustomer_profile\u001b[0m\u001b[1;33m[\u001b[0m\u001b[1;36m1\u001b[0m\u001b[1;33m]\u001b[0m\u001b[1;33m)\u001b[0m\u001b[1;33m\u001b[0m\u001b[0m\n\u001b[0;32m      8\u001b[0m \u001b[0mprint\u001b[0m\u001b[1;33m(\u001b[0m\u001b[0mcustomer_profile\u001b[0m\u001b[1;33m[\u001b[0m\u001b[1;34m'id'\u001b[0m\u001b[1;33m]\u001b[0m\u001b[1;33m)\u001b[0m\u001b[1;33m\u001b[0m\u001b[0m\n\u001b[1;32m----> 9\u001b[1;33m \u001b[0mprint\u001b[0m\u001b[1;33m(\u001b[0m\u001b[0mcustomer_profile\u001b[0m\u001b[1;33m[\u001b[0m\u001b[1;34m'hey'\u001b[0m\u001b[1;33m]\u001b[0m\u001b[1;33m)\u001b[0m\u001b[1;33m\u001b[0m\u001b[0m\n\u001b[0m",
      "\u001b[1;31mKeyError\u001b[0m: 'hey'"
     ]
    }
   ],
   "source": [
    "'''\n",
    "類似list可以用index來取值、比如list[index]，dict同樣能用key來取值。\n",
    "當取到不存在的key時，相對於list中的IndexError，dict會顯示KeyError。\n",
    "'''\n",
    "\n",
    "customer_profile = {1: ['Lynn', 1205, 'college'], 'id': 235}\n",
    "print(customer_profile[1])\n",
    "print(customer_profile['id'])\n",
    "print(customer_profile['hey']) #這行會不顯示"
   ]
  },
  {
   "cell_type": "code",
   "execution_count": 8,
   "metadata": {},
   "outputs": [
    {
     "name": "stdout",
     "output_type": "stream",
     "text": [
      "輸入字串: 12\n",
      "輸入整數: 2\n",
      "\n",
      "輸入字串: re\n",
      "輸入整數: 32\n",
      "\n",
      "輸入字串: 23\n",
      "輸入整數: 323\n",
      "\n",
      "輸入字串: fds\n",
      "輸入整數: 12\n",
      "\n",
      "輸入字串: gf\n",
      "輸入整數: 43\n",
      "\n",
      "{'12': 2, 're': 32, '23': 323, 'fds': 12, 'gf': 43}\n"
     ]
    }
   ],
   "source": [
    "'''\n",
    "讓使用者在名為table的dict中，輸入五組的key-value pair，key是字串、value是數字，最後把這個dict印出來。\n",
    "(提示: dict沒有append，直接用增加或更新(InsertOrUpdate)的方式)\n",
    "'''\n",
    "\n",
    "table = {}\n",
    "for inputTimes in range(0,5):\n",
    "    k = input('輸入字串: ')\n",
    "    v = int(input('輸入整數: '))\n",
    "    table[k] = v\n",
    "    print(end='\\n')\n",
    "print(table)"
   ]
  },
  {
   "cell_type": "code",
   "execution_count": 11,
   "metadata": {},
   "outputs": [
    {
     "name": "stdout",
     "output_type": "stream",
     "text": [
      "繼續找吧孩子...\n",
      "我找到了! key = two\n"
     ]
    }
   ],
   "source": [
    "#除了用key找value，我們也可以反查，用value找出相對應的key\n",
    "\n",
    "d = {'one':1, 'two':2, 'three':3, 'four':4, 'five':5}\n",
    "target = 2\n",
    "for key in d:\n",
    "    if d[key] == target:\n",
    "        print('我找到了! key =', key)\n",
    "        break\n",
    "    else:\n",
    "        print('繼續找吧孩子...')"
   ]
  },
  {
   "cell_type": "code",
   "execution_count": 12,
   "metadata": {},
   "outputs": [
    {
     "name": "stdout",
     "output_type": "stream",
     "text": [
      "True\n",
      "False\n"
     ]
    }
   ],
   "source": [
    "#檢查dict中有沒有包含特定的key\n",
    "\n",
    "d = {'one':1, 'two':2, 'three':3, 'four':4, 'five':5}\n",
    "print('one' in d)\n",
    "print(1 in d)"
   ]
  },
  {
   "cell_type": "code",
   "execution_count": 13,
   "metadata": {},
   "outputs": [
    {
     "name": "stdout",
     "output_type": "stream",
     "text": [
      "False\n",
      "True\n",
      "True\n",
      "False\n"
     ]
    }
   ],
   "source": [
    "'''\n",
    "若想拿到一個由所有key組成的list、或一個由所有value組成的list，可以使用dict.keys()或是dict.values()。\n",
    "結合反查的方法，可以檢查一個特定的key或value在這個dict中存不存在\n",
    "'''\n",
    "\n",
    "d = {'one':1, 'two':2, 'three':3, 'four':4, 'five':5}\n",
    "print(0 in d.keys())\n",
    "print(1 in d.values())\n",
    "print('one' in d.keys())\n",
    "print(9 in d.values())"
   ]
  },
  {
   "cell_type": "code",
   "execution_count": 14,
   "metadata": {},
   "outputs": [
    {
     "name": "stdout",
     "output_type": "stream",
     "text": [
      "1\n",
      "2\n",
      "找不到耶\n"
     ]
    }
   ],
   "source": [
    "'''\n",
    "如果有了key，想要把dict中相對應的資料取出來應該要怎麼做呢? 作法有兩個：\n",
    "\n",
    "d[key]: 這個做法相對不安全，key如果不存在的話就會出現KeyError (如同上面我們所示範的)。\n",
    "d.get(key, default_value): 是比較安全的作法，如果key不存在的話就會回傳 default_value (下面例子中的deafult_value就是’找不到耶’)\n",
    "'''\n",
    "\n",
    "d = {'one':1, 'two':2, 'three':3, 'four':4, 'five':5}\n",
    "print(d['one'])\n",
    "print(d.get('two', '找不到耶'))\n",
    "print(d.get(2, '找不到耶'))"
   ]
  },
  {
   "cell_type": "code",
   "execution_count": 17,
   "metadata": {},
   "outputs": [
    {
     "name": "stdout",
     "output_type": "stream",
     "text": [
      "請輸入名子: ㄅ\n",
      "請輸入成績: 1\n",
      "\n",
      "請輸入名子: ㄆ\n",
      "請輸入成績: 2\n",
      "\n",
      "請輸入名子: ㄇ\n",
      "請輸入成績: 3\n",
      "\n",
      "請輸入名子: ㄈ\n",
      "請輸入成績: 4\n",
      "\n",
      "請輸入名子: ㄎ\n",
      "請輸入成績: 5\n",
      "\n",
      "{'ㄅ': 1, 'ㄆ': 2, 'ㄇ': 3, 'ㄈ': 4, 'ㄎ': 5}\n",
      "請輸入查詢:ㄅ\n",
      "1\n",
      "請輸入查詢:ㄑ\n",
      "沒查到哦\n",
      "請輸入查詢:ㄑ\n",
      "沒查到哦\n",
      "請輸入查詢:施\n",
      "沒查到哦\n",
      "請輸入查詢:雌\n",
      "沒查到哦\n"
     ]
    }
   ],
   "source": [
    "table = {}\n",
    "for i in range(0,5):\n",
    "    a = input('請輸入名子: ')\n",
    "    b = int(input('請輸入成績: '))\n",
    "    table[a]=b\n",
    "    print(end='\\n')\n",
    "print(table)\n",
    "\n",
    "for j in range(0,5):\n",
    "    c = input('請輸入查詢:' )\n",
    "    print(table.get(c, '沒查到哦'))"
   ]
  }
 ],
 "metadata": {
  "kernelspec": {
   "display_name": "Python 3",
   "language": "python",
   "name": "python3"
  },
  "language_info": {
   "codemirror_mode": {
    "name": "ipython",
    "version": 3
   },
   "file_extension": ".py",
   "mimetype": "text/x-python",
   "name": "python",
   "nbconvert_exporter": "python",
   "pygments_lexer": "ipython3",
   "version": "3.7.0"
  }
 },
 "nbformat": 4,
 "nbformat_minor": 2
}
