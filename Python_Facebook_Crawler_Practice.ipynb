{
 "cells": [
  {
   "cell_type": "code",
   "execution_count": 1,
   "metadata": {},
   "outputs": [
    {
     "name": "stdout",
     "output_type": "stream",
     "text": [
      "0\n",
      "1\n",
      "2\n",
      "3\n",
      "4\n",
      "5\n",
      "6\n",
      "7\n",
      "8\n",
      "9\n"
     ]
    }
   ],
   "source": [
    "for i in range(10):\n",
    "    print(i)"
   ]
  },
  {
   "cell_type": "code",
   "execution_count": 11,
   "metadata": {},
   "outputs": [
    {
     "name": "stdout",
     "output_type": "stream",
     "text": [
      "2 4 6 8 10 12 14 16 18 \n",
      "3 6 9 12 15 18 21 24 27 \n",
      "4 8 12 16 20 24 28 32 36 \n",
      "5 10 15 20 25 30 35 40 45 \n",
      "6 12 18 24 30 36 42 48 54 \n",
      "7 14 21 28 35 42 49 56 63 \n",
      "8 16 24 32 40 48 56 64 72 \n",
      "9 18 27 36 45 54 63 72 81 \n"
     ]
    }
   ],
   "source": [
    "#九九乘法表\n",
    "\n",
    "for i in range(2,10):\n",
    "    for j in range(1,10):\n",
    "        print(i*j, end=' ')\n",
    "    print(end='\\n')"
   ]
  },
  {
   "cell_type": "code",
   "execution_count": 13,
   "metadata": {},
   "outputs": [
    {
     "name": "stdout",
     "output_type": "stream",
     "text": [
      "1\n",
      "3\n",
      "5\n",
      "7\n",
      "9\n"
     ]
    }
   ],
   "source": [
    "#從1到10、每次加2的數列\n",
    "\n",
    "for i in range(1, 10, 2):\n",
    "    print(i)"
   ]
  },
  {
   "cell_type": "code",
   "execution_count": 14,
   "metadata": {},
   "outputs": [
    {
     "name": "stdout",
     "output_type": "stream",
     "text": [
      "10\n",
      "7\n",
      "4\n"
     ]
    }
   ],
   "source": [
    "#從10到2、每次-3的數列\n",
    "\n",
    "for j in range(10, 1, -3):\n",
    "    print(j)"
   ]
  },
  {
   "cell_type": "code",
   "execution_count": 16,
   "metadata": {},
   "outputs": [
    {
     "name": "stdout",
     "output_type": "stream",
     "text": [
      "22\n",
      "猜錯了\n",
      "32\n",
      "猜錯了\n",
      "29\n",
      "Bingo!\n",
      "遊戲GG囉\n"
     ]
    }
   ],
   "source": [
    "#猜數字的程式：每次讓使用者猜一個整數，若猜對就輸出Bingo；使用者最多可以猜3次\n",
    "\n",
    "ans = 29 #猜數字的解答\n",
    "\n",
    "for guessChance in range(0, 3):\n",
    "    guess = int(input())\n",
    "    if ans == guess:\n",
    "        print('Bingo!')\n",
    "        break\n",
    "    else:\n",
    "        print('猜錯了')\n",
    "print('遊戲GG囉')"
   ]
  },
  {
   "cell_type": "code",
   "execution_count": 17,
   "metadata": {},
   "outputs": [
    {
     "name": "stdout",
     "output_type": "stream",
     "text": [
      "Lynn\n",
      "0.87\n",
      "1234\n",
      "True\n"
     ]
    }
   ],
   "source": [
    "#List 加上上面教學的 For Loop\n",
    "\n",
    "a = ['Lynn', 0.87, 1234, True]\n",
    "for i in range(0,len(a)):\n",
    "    print(a[i])"
   ]
  },
  {
   "cell_type": "code",
   "execution_count": 19,
   "metadata": {},
   "outputs": [
    {
     "name": "stdout",
     "output_type": "stream",
     "text": [
      "Lynn\n",
      "0.87\n",
      "1234\n",
      "True\n"
     ]
    }
   ],
   "source": [
    "a = ['Lynn', 0.87, 1234, True]\n",
    "for i in a:\n",
    "    print(i)"
   ]
  },
  {
   "cell_type": "code",
   "execution_count": 22,
   "metadata": {},
   "outputs": [
    {
     "name": "stdout",
     "output_type": "stream",
     "text": [
      "1\n",
      "9\n",
      "25\n",
      "49\n",
      "81\n",
      "[1, 9, 25, 49, 81]\n"
     ]
    }
   ],
   "source": [
    "a = [1, 3, 5, 7, 9]\n",
    "for i in range(0, len(a)):\n",
    "    print(a[i]*a[i])\n",
    "    a[i] = a[i]*a[i]\n",
    "print(a)"
   ]
  },
  {
   "cell_type": "code",
   "execution_count": 26,
   "metadata": {},
   "outputs": [
    {
     "name": "stdout",
     "output_type": "stream",
     "text": [
      "['1', '2', '3']\n",
      "['1', '2']\n"
     ]
    }
   ],
   "source": [
    "cast=['1', '2', '3','4']\n",
    "cast.pop()\n",
    "print(cast) #list.pop(): 把list的最後一格丟掉\n",
    "\n",
    "cast.pop(2)\n",
    "print(cast) #list.pop(i): 把list的第i格丟掉"
   ]
  },
  {
   "cell_type": "code",
   "execution_count": 27,
   "metadata": {},
   "outputs": [
    {
     "name": "stdout",
     "output_type": "stream",
     "text": [
      "['1', '2', '3', '4', '5']\n",
      "['3', '4']\n"
     ]
    }
   ],
   "source": [
    "greeting = ['1','2','3','4','5','6','7']\n",
    "print(greeting[0:5])\n",
    "print(greeting[2:4])"
   ]
  },
  {
   "cell_type": "code",
   "execution_count": 3,
   "metadata": {},
   "outputs": [
    {
     "name": "stdout",
     "output_type": "stream",
     "text": [
      "輸入數字: 2\n",
      "輸入數字: 3\n",
      "輸入數字: 6\n",
      "輸入數字: 8\n",
      "輸入數字: 6\n",
      "輸入數字: 3\n",
      "輸入數字: 5\n",
      "輸入數字: 8\n",
      "輸入數字: 1\n",
      "輸入數字: 2\n",
      "[2, 3, 6, 8, 6, 3, 5, 8, 1, 2]\n",
      "\n",
      "頭在哪裡: 0\n",
      "偉在哪裡: 6\n",
      "總和:  28\n",
      "\n",
      "頭在哪裡: 1\n",
      "偉在哪裡: 5\n",
      "總和:  23\n",
      "\n",
      "頭在哪裡: 8\n",
      "偉在哪裡: 11\n",
      "總和:  3\n",
      "\n",
      "頭在哪裡: 3\n",
      "偉在哪裡: 4\n",
      "總和:  8\n",
      "\n",
      "頭在哪裡: 2\n",
      "偉在哪裡: 6\n",
      "總和:  23\n",
      "\n"
     ]
    }
   ],
   "source": [
    "people=[]\n",
    "for i in range(0,10):\n",
    "    i = int(input('輸入數字: '))\n",
    "    people.append(i)\n",
    "print(people)\n",
    "print(end='\\n')\n",
    "\n",
    "for questions in range(0,5):\n",
    "    a = int(input('頭在哪裡: '))\n",
    "    b = int(input('偉在哪裡: '))\n",
    "    print('總和: ', sum(people[a:b]))\n",
    "    print(end='\\n')"
   ]
  }
 ],
 "metadata": {
  "kernelspec": {
   "display_name": "Python 3",
   "language": "python",
   "name": "python3"
  },
  "language_info": {
   "codemirror_mode": {
    "name": "ipython",
    "version": 3
   },
   "file_extension": ".py",
   "mimetype": "text/x-python",
   "name": "python",
   "nbconvert_exporter": "python",
   "pygments_lexer": "ipython3",
   "version": "3.7.0"
  }
 },
 "nbformat": 4,
 "nbformat_minor": 2
}
