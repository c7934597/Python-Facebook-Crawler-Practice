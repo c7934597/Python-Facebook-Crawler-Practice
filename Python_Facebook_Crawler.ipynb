{
 "cells": [
  {
   "cell_type": "code",
   "execution_count": 1,
   "metadata": {},
   "outputs": [
    {
     "name": "stdout",
     "output_type": "stream",
     "text": [
      "今天天氣真好啊\n",
      "2017-03-06T17:48:24+0000\n",
      "2017-03-06T17:46:28+0000\n",
      "2018-09-27T07:52:41+0000\n"
     ]
    }
   ],
   "source": [
    "import facebook\n",
    "graph = facebook.GraphAPI(access_token='EAAKpsr2BEZAQBAIrzDZAM1KqS39pHTZCj8zGdwDZAq95auZAXkiFuGIfknC3jk1paisDQdeUJp88zYT6Ne2UD9E2Q8gD8JYU5iOadGfVhhqj286w7OfZCLSECm8CfN1KqVZB5wF88YjpIeYTDIM06TXWJ5Bcga0ABYVcPyFXwNgFsCpg55jHrECfk1DWxbeSt3YiMlMA69safNOfc05lPUZAseuPekDQGMoZD', version='3.0')\n",
    "\n",
    "# Get the messsage of a post\n",
    "post = graph.get_object(id='1824737664314058_1824739634313861')\n",
    "print(post['message']) \n",
    "\n",
    "# Get the created_time of the posts\n",
    "post_ids = ['1824737664314058_1223349881119509', '1824737664314058_1223348987786265', '1824737664314058_1824739634313861']\n",
    "posts = graph.get_objects(ids=post_ids) \n",
    " \n",
    "# Each given id maps to an object.\n",
    "for post_id in post_ids:\n",
    " print(posts[post_id]['created_time'])"
   ]
  },
  {
   "cell_type": "code",
   "execution_count": null,
   "metadata": {},
   "outputs": [],
   "source": []
  }
 ],
 "metadata": {
  "kernelspec": {
   "display_name": "Python 3",
   "language": "python",
   "name": "python3"
  },
  "language_info": {
   "codemirror_mode": {
    "name": "ipython",
    "version": 3
   },
   "file_extension": ".py",
   "mimetype": "text/x-python",
   "name": "python",
   "nbconvert_exporter": "python",
   "pygments_lexer": "ipython3",
   "version": "3.7.0"
  }
 },
 "nbformat": 4,
 "nbformat_minor": 2
}
